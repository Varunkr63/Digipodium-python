{
 "cells": [
  {
   "cell_type": "code",
   "execution_count": 3,
   "metadata": {},
   "outputs": [
    {
     "name": "stdout",
     "output_type": "stream",
     "text": [
      "apple\n",
      "pears\n",
      "orange\n",
      "peaches\n",
      "bananas\n",
      "grapes\n"
     ]
    }
   ],
   "source": [
    "#using for loop in list\n",
    "fruits=['apple','pears','orange','peaches','bananas','grapes']\n",
    "for i in fruits:\n",
    "    print(i)"
   ]
  },
  {
   "cell_type": "code",
   "execution_count": 2,
   "metadata": {},
   "outputs": [
    {
     "name": "stdout",
     "output_type": "stream",
     "text": [
      "V\n",
      "A\n",
      "R\n",
      "U\n",
      "N\n"
     ]
    }
   ],
   "source": [
    "name= \"VARUN\"\n",
    "for i in name:\n",
    "    print(i)"
   ]
  },
  {
   "cell_type": "code",
   "execution_count": 5,
   "metadata": {},
   "outputs": [
    {
     "name": "stdout",
     "output_type": "stream",
     "text": [
      "varun\n",
      "varun\n",
      "varun\n",
      "varun\n",
      "varun\n",
      "varun\n",
      "varun\n",
      "varun\n",
      "varun\n",
      "varun\n"
     ]
    }
   ],
   "source": [
    "# range in for loop\n",
    "name=\"varun\"\n",
    "for i in range(10):\n",
    "    print(name) "
   ]
  },
  {
   "cell_type": "code",
   "execution_count": 8,
   "metadata": {},
   "outputs": [
    {
     "name": "stdout",
     "output_type": "stream",
     "text": [
      "varun\n",
      "varun\n",
      "varun\n",
      "varun\n",
      "varun\n"
     ]
    }
   ],
   "source": [
    "for i in range(5):\n",
    "  print(\"varun\")"
   ]
  },
  {
   "cell_type": "code",
   "execution_count": null,
   "metadata": {},
   "outputs": [],
   "source": []
  }
 ],
 "metadata": {
  "kernelspec": {
   "display_name": "Python 3",
   "language": "python",
   "name": "python3"
  },
  "language_info": {
   "codemirror_mode": {
    "name": "ipython",
    "version": 3
   },
   "file_extension": ".py",
   "mimetype": "text/x-python",
   "name": "python",
   "nbconvert_exporter": "python",
   "pygments_lexer": "ipython3",
   "version": "3.12.0"
  }
 },
 "nbformat": 4,
 "nbformat_minor": 2
}
